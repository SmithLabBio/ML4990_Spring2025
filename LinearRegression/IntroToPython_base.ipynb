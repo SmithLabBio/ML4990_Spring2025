{
 "cells": [
  {
   "cell_type": "markdown",
   "id": "abceb53f-3987-468d-b009-4c9719244973",
   "metadata": {},
   "source": [
    "# Basic Arithmetic in python\n",
    "\n",
    "We can use python to perform basic arithmetic operations (Table 1).\n",
    "\n",
    "**Table 1: Arithmetic Operators**\n",
    "\n",
    "| Operator | Name           |\n",
    "|----------|----------------|\n",
    "| +        | addition       |\n",
    "| -        | subtraction    |\n",
    "| *        | multiplication |\n",
    "| /        | division       |\n",
    "| %        | modulus        |\n",
    "| //       | floor division |\n",
    "\n",
    "In the code block below, I have included an example with addition. \n",
    "\n",
    "**Change the code**, and try out some of the other operators."
   ]
  },
  {
   "cell_type": "code",
   "execution_count": 1,
   "id": "f329d21d-2735-4c11-955a-01d8258716ed",
   "metadata": {},
   "outputs": [
    {
     "data": {
      "text/plain": [
       "4"
      ]
     },
     "execution_count": 1,
     "metadata": {},
     "output_type": "execute_result"
    }
   ],
   "source": [
    "2+2"
   ]
  },
  {
   "cell_type": "markdown",
   "id": "a3ad51eb-82cf-4a4b-ae3d-3bd56bbc1f71",
   "metadata": {},
   "source": [
    "# Variables in Python\n",
    "\n",
    "We can also store the results of calculations in Python using variables. Variables are used to store information that can then be referenced later.\n",
    "\n",
    "Below, I included some code for creating a variable.\n",
    "\n",
    "Python will not interpret anything after a \"#\". We can use this to add comments to our code. Below, I use comments to explain what the code does.\n",
    "\n",
    "**Change**: Create a new variable and assign to it a numerical value. Then, add these two variables together. "
   ]
  },
  {
   "cell_type": "code",
   "execution_count": 2,
   "id": "6428c398-af6a-46a0-b243-fe3236d9f22c",
   "metadata": {},
   "outputs": [
    {
     "name": "stdout",
     "output_type": "stream",
     "text": [
      "2\n"
     ]
    }
   ],
   "source": [
    "x = 2 # This line of code creates a variable called x, and assigns the value 2 to this variable.\n",
    "print(x) # this is a built-in function (see below to learn more) that prints the value of x to the screen."
   ]
  },
  {
   "cell_type": "markdown",
   "id": "76cca616-e441-420c-96db-f01a495deb01",
   "metadata": {},
   "source": [
    "## Different types of variables\n",
    "\n",
    "There are different types of variables in python. You can use a built-in function (which you'll learn more about below) to find the types of variables in python. \n",
    "\n",
    "**Change**: Find the types of all the variables included below using the built-in function type().\n",
    "\n",
    "**Table 2: Types of Variables in Python**\n",
    "\n",
    "| Type     | Description                                      | Example             |\n",
    "|----------|--------------------------------------------------|---------------------|\n",
    "| Integer  | Whole numbers, positive or negative, without decimals. | `42`, `-7`, `0`    |\n",
    "| Float    | Numbers with decimal points, representing real numbers. | `3.14`, `-0.001`, `2.0` |\n",
    "| String   | Sequence of characters enclosed in quotes.       | `\"hello\"`, `'Python'` |\n",
    "| Boolean  | Logical values representing `True` or `False`.   | `True`, `False`    |\n",
    "\n"
   ]
  },
  {
   "cell_type": "code",
   "execution_count": null,
   "id": "507dc707-1809-4355-9778-6f3b26fe6d2e",
   "metadata": {},
   "outputs": [],
   "source": [
    "a = 2\n",
    "b = 2.0\n",
    "c = 'slugs'\n",
    "d = True"
   ]
  },
  {
   "cell_type": "markdown",
   "id": "2ebc5a88-617a-4e87-a1f2-3a3abfa29f37",
   "metadata": {},
   "source": [
    "# Lists in Python\n",
    "\n",
    "We can also use lists, which allow us to store collections of elements. Lists are ordered (i.e., the order of elements is maintained), mutable (i.e., you can change them), and dynamic (i.e., they can store elements of different types).\n",
    "\n",
    "**Note**: Lists are zero-indexed in python, meaning the first element is element 0, not element 1.\n",
    "\n",
    "**Change**: Create your own list."
   ]
  },
  {
   "cell_type": "code",
   "execution_count": 5,
   "id": "a57c299c-003d-485e-8647-6380552b20f6",
   "metadata": {},
   "outputs": [
    {
     "name": "stdout",
     "output_type": "stream",
     "text": [
      "['taildropper slugs', 'dogs', 'robust lancetooth snails', 'mantleslugs', 'cats', 'red pandas']\n",
      "robust lancetooth snails\n"
     ]
    }
   ],
   "source": [
    "my_favorite_animals = ['taildropper slugs', 'dogs', 'robust lancetooth snails', 'mantleslugs', 'cats', 'red pandas'] # create a list of my favoriate animals.\n",
    "print(my_favorite_animals) # print my list.\n",
    "print(my_favorite_animals[2]) # print the third element of my list."
   ]
  },
  {
   "cell_type": "markdown",
   "id": "465573b0-e3ab-48bf-a8e6-1c97f8a5db77",
   "metadata": {},
   "source": [
    "# Performing actions on lists\n",
    "\n",
    "Now, let's imagine we have a list of numbers, and we want to increase the value of each number in the list by 1. We can do this using for loops or using list comprehension (not shown here).\n",
    "\n",
    "**Change**: First, create a list with ten numbers. Choose any numbers you want."
   ]
  },
  {
   "cell_type": "code",
   "execution_count": 8,
   "id": "c7acfc6c-f2cd-4ffa-acec-2d8486af250c",
   "metadata": {},
   "outputs": [],
   "source": [
    "my_numbers = [1,2,3,4,5]"
   ]
  },
  {
   "cell_type": "markdown",
   "id": "fb40c86f-3b11-420a-b4ac-cd467836846f",
   "metadata": {},
   "source": [
    "We can use a for loop to iterate over values in the list and print them to the screen."
   ]
  },
  {
   "cell_type": "code",
   "execution_count": 9,
   "id": "7ee452f2-d017-49a7-865e-7dd2421710cf",
   "metadata": {},
   "outputs": [
    {
     "name": "stdout",
     "output_type": "stream",
     "text": [
      "1\n",
      "2\n",
      "3\n",
      "4\n",
      "5\n"
     ]
    }
   ],
   "source": [
    "for number in my_numbers: # this tells python to iterate over each number in the list my_numbers.\n",
    "    print(number) # this tells python to print the current number"
   ]
  },
  {
   "cell_type": "markdown",
   "id": "e61a5d5e-28e6-4d34-af74-d811d3ac1285",
   "metadata": {},
   "source": [
    "Note that indentation is important in python. The lines of code that you want to be executed in a for loop must be indented. Best practice is to use four spaces instead of a tab. Any line not indented will not be executed within the loop. To understand, try this code."
   ]
  },
  {
   "cell_type": "code",
   "execution_count": 10,
   "id": "56562bfa-68e3-43d6-8aad-243d99aacb01",
   "metadata": {},
   "outputs": [
    {
     "name": "stdout",
     "output_type": "stream",
     "text": [
      "I am going to print a number\n",
      "I am going to print a number\n",
      "I am going to print a number\n",
      "I am going to print a number\n",
      "I am going to print a number\n",
      "5\n"
     ]
    }
   ],
   "source": [
    "for number in my_numbers:\n",
    "    print('I am going to print a number')\n",
    "print(number)"
   ]
  },
  {
   "cell_type": "markdown",
   "id": "94a2c79c-36e2-4ebf-905f-65becf34bbb3",
   "metadata": {},
   "source": [
    "# Python Functions\n",
    "\n",
    "Functions are things that you can call to perform a task in python. Functions often accept arguments, which they can use to perform their task. There are several built in functions in Python. For example, you have already seen the print() function. Function names are always followed by parentheses, and the arguments to a function are provided within these parentheses. The print function takes an argument that tells it what to print to the screen.\n",
    "\n",
    "You can also define your own functions in python. For example, below, I define a function that will print each item in a list. Notice that we need to indent the code that belongs to the function.\n",
    "\n",
    "Functions can be very helpful when you want to perform an action many times, because reusing the function is concise."
   ]
  },
  {
   "cell_type": "code",
   "execution_count": 13,
   "id": "04099a4d-f0db-4bdf-998b-79ea78bdcc97",
   "metadata": {},
   "outputs": [],
   "source": [
    "def print_the_list(my_list): # define a function called print_the_list that takes an argument called my_list.\n",
    "    for item in my_list: # use a for loop to iterate over items in the list\n",
    "        print(item)# print the items."
   ]
  },
  {
   "cell_type": "markdown",
   "id": "2bc606eb-b347-4c0c-a843-95546aafcae6",
   "metadata": {},
   "source": [
    "**Change**: Use the function defined above to print the items in my_numbers."
   ]
  },
  {
   "cell_type": "code",
   "execution_count": null,
   "id": "f1d6fc4a",
   "metadata": {},
   "outputs": [],
   "source": []
  },
  {
   "cell_type": "markdown",
   "id": "c24533b0-bf0f-4409-a7ab-3552da58fb14",
   "metadata": {},
   "source": [
    "We can also ask functions to return values, which can be assigned to variables. Below, I have included an example of a function that performs an arithmetic operation on a number. This probably isn't something I needed to write a function for, but hopefully it illustrates how we can return values in functions.\n"
   ]
  },
  {
   "cell_type": "code",
   "execution_count": 14,
   "id": "6fa056c6-d869-410a-88a2-5fef89d09f93",
   "metadata": {},
   "outputs": [
    {
     "name": "stdout",
     "output_type": "stream",
     "text": [
      "9\n"
     ]
    }
   ],
   "source": [
    "def add_subtract_values(original, to_add, to_subtract): # this function takes three parameters: an original value, an amount to add, and an amount to subtract\n",
    "    original += to_add\n",
    "    original -= to_subtract\n",
    "    return (original)\n",
    "new_value = add_subtract_values(original=10, to_add=3, to_subtract=4) # when supplying arguments, I can either rely on order, or provide the parameter names.\n",
    "print(new_value)"
   ]
  }
 ],
 "metadata": {
  "kernelspec": {
   "display_name": "Python 3 (ipykernel)",
   "language": "python",
   "name": "python3"
  },
  "language_info": {
   "codemirror_mode": {
    "name": "ipython",
    "version": 3
   },
   "file_extension": ".py",
   "mimetype": "text/x-python",
   "name": "python",
   "nbconvert_exporter": "python",
   "pygments_lexer": "ipython3",
   "version": "3.10.14"
  }
 },
 "nbformat": 4,
 "nbformat_minor": 5
}
