{
 "cells": [
  {
   "cell_type": "code",
   "execution_count": null,
   "id": "ce479cc9-8af3-4aae-8320-30526fe9d1d5",
   "metadata": {},
   "outputs": [],
   "source": [
    "import pandas\n",
    "import matplotlib.pyplot as plt\n",
    "import numpy as np"
   ]
  },
  {
   "cell_type": "markdown",
   "id": "abceb53f-3987-468d-b009-4c9719244973",
   "metadata": {},
   "source": [
    "# Read the data\n",
    "\n",
    "First, we need to read the data. To do this, we will use the python package pandas, which allows us to read spreadsheets as 'dataframes' and manipulate them. To learn more about pandas, go here: https://pandas.pydata.org/docs/getting_started/index.html\n",
    "\n",
    "We will use the pandas function read_csv, which takes as a parameter the name of the file.\n",
    "\n",
    "**Change**: In the code block below, replace 'your file' with the path to the all.csv file. You can use a relative path (i.e., the path from the current location) or the full path (i.e., the path that would work from any location). The relative path will just be the file name, since the file is in this directory.\n",
    "\n",
    "Note that to use the function read_csv from the pandas package I use the structure: pandas.functionname(). Also notice, that we use dataframe.head() to view the first few rows of the dataframe."
   ]
  },
  {
   "cell_type": "code",
   "execution_count": null,
   "id": "f329d21d-2735-4c11-955a-01d8258716ed",
   "metadata": {},
   "outputs": [],
   "source": [
    "anolis_data = pandas.read_csv(your file)\n",
    "anolis_data.head()"
   ]
  },
  {
   "cell_type": "markdown",
   "id": "a3ad51eb-82cf-4a4b-ae3d-3bd56bbc1f71",
   "metadata": {},
   "source": [
    "# Plot the data\n",
    "\n",
    "Now, let's plot some of the data to help decide which variables to use. We'll use the library matplotlib for plotting. Specifically, we imported matplotlib.pyplot as plt. This allows us to refer to functions faster.\n",
    "\n",
    "**Change**: In the below code replace 'Fibula' and 'Tibia' with different variables you want to consider for your y and x variables, respectively.\n",
    "\n",
    "**Decide**: Chose an X and Y variable to use moving forward, keeping in mind that we want to be able to predict Y from X. You can choose to try and predict ecological attributes from a morphological trait, or to predict one morphological trait from another."
   ]
  },
  {
   "cell_type": "code",
   "execution_count": null,
   "id": "6428c398-af6a-46a0-b243-fe3236d9f22c",
   "metadata": {},
   "outputs": [],
   "source": [
    "variable1='Fibula'\n",
    "variable2='Tibia'\n",
    "plt.scatter(x=anolis_data[variable1],y=anolis_data[variable2])\n",
    "plt.xlabel(variable1)\n",
    "plt.ylabel(variable2)"
   ]
  },
  {
   "cell_type": "markdown",
   "id": "76cca616-e441-420c-96db-f01a495deb01",
   "metadata": {},
   "source": [
    "# Functions for making predictions, plotting predictions.\n",
    "\n",
    "I've included the functions below, please answer the questions about this code for your activity.\n",
    "\n",
    "**Answer Question 1**"
   ]
  },
  {
   "cell_type": "code",
   "execution_count": null,
   "id": "507dc707-1809-4355-9778-6f3b26fe6d2e",
   "metadata": {},
   "outputs": [],
   "source": [
    "def make_predictions (x,y,w,b):\n",
    "    pred = np.array(anolis_data[x])*np.array(w)+np.array(b)\n",
    "    mse = sum((np.array(anolis_data[y])-pred)**2) * (1/(2*len(pred)))\n",
    "    plt.scatter(x=anolis_data[x], y=anolis_data[y])\n",
    "    plt.plot(anolis_data[x], pred, color=\"green\")\n",
    "    [plt.vlines(x=anolis_data[x][i], ymin=anolis_data[y][i], ymax=pred[i], color=\"red\", linestyle=\"--\", alpha=0.5) for i in range(len(x))]\n",
    "    plt.ylabel(y)\n",
    "    plt.xlabel(x)\n",
    "    return(pred,mse)"
   ]
  },
  {
   "cell_type": "markdown",
   "id": "2ebc5a88-617a-4e87-a1f2-3a3abfa29f37",
   "metadata": {},
   "source": [
    "# Change the values of w and b\n",
    "\n",
    "**Add**: Use the functions above to make and plot different predictions for different values of w and b.\n",
    "\n",
    "**Answer Question 2**"
   ]
  },
  {
   "cell_type": "code",
   "execution_count": null,
   "id": "a57c299c-003d-485e-8647-6380552b20f6",
   "metadata": {},
   "outputs": [],
   "source": [
    "# Add code to use the functions above\n",
    "make_predictions(x=variable1, y=variable2, w=1, b=0)"
   ]
  },
  {
   "cell_type": "markdown",
   "id": "465573b0-e3ab-48bf-a8e6-1c97f8a5db77",
   "metadata": {},
   "source": [
    "# Function for Gradient Descent\n",
    "\n",
    "Below, I have written a function that will perform gradient descent in python. The function takes several parameters.\n",
    "\n",
    "* x: the features from your data.\n",
    "* y: the response/labels from your data.\n",
    "* iterations: the number of iterations for which to run gradient descent.\n",
    "* b_init: the value to begin with for b (Default = 0)\n",
    "* w_init: the value to begin with for w (Default = 0)\n",
    "* learning rate: the value of alpha to use (Default = 0.005)\n",
    "\n",
    "**Answer Question 3**"
   ]
  },
  {
   "cell_type": "code",
   "execution_count": null,
   "id": "c7acfc6c-f2cd-4ffa-acec-2d8486af250c",
   "metadata": {},
   "outputs": [],
   "source": [
    "def fit(x, y, iterations, b_init=0, w_init=0, learning_rate=0.005):\n",
    "    mse = []\n",
    "    b_states = []\n",
    "    w_states = []\n",
    "    b = b_init\n",
    "    w = w_init\n",
    "    n = anolis_data[x].shape[0]\n",
    "    b_states.append(b)\n",
    "    w_states.append(w)\n",
    "    for j in range(iterations):\n",
    "        pred = np.array(w)*np.array(anolis_data[x]) + np.array(b)\n",
    "        this_mse = sum((np.array(anolis_data[y])-pred)**2) * (1/(2*len(pred)))\n",
    "        mse.append(this_mse)\n",
    "        b_gradient =  np.sum(pred-anolis_data[y]) / n\n",
    "        w_gradient = np.sum(anolis_data[x]*((pred-anolis_data[y]))) / n\n",
    "        b = b - (learning_rate * b_gradient)\n",
    "        w = w - (learning_rate * w_gradient)\n",
    "        b_states.append(b)\n",
    "        w_states.append(w)\n",
    "    pred = np.array(w)*np.array(anolis_data[x]) + np.array(b)\n",
    "    this_mse = sum((np.array(anolis_data[y])-pred)**2) * (1/(2*len(pred)))\n",
    "    mse.append(this_mse)\n",
    "\n",
    "    fig, axes = plt.subplots(nrows=1, ncols=2, figsize=(10, 4))  # Adjust figsize as needed\n",
    "\n",
    "    axes[0].scatter(anolis_data[x], anolis_data[y])\n",
    "    axes[0].plot(anolis_data[x], pred, color=\"green\")\n",
    "    [axes[0].vlines(x=anolis_data[x][i], ymin=anolis_data[y][i], ymax=pred[i], color=\"red\", linestyle=\"--\", alpha=0.5) for i in range(len(pred))]\n",
    "    axes[0].set_ylabel(y)\n",
    "    axes[0].set_xlabel(x)\n",
    "    \n",
    "    axes[1].plot(range(len(w_states)), mse, color=\"blue\")\n",
    "    axes[1].set_ylabel('MSE')\n",
    "    axes[1].set_xlabel(\"Iteration\")\n",
    "\n",
    "    return(w,b, mse, w_states, b_states)"
   ]
  },
  {
   "cell_type": "markdown",
   "id": "34e62d98-fdb5-4ca1-8d18-04d6574ca121",
   "metadata": {},
   "source": [
    "# Use gradient descent!\n",
    "\n",
    "Set the parameters below, and run gradient descent using the function above!\n",
    "\n",
    "**Add**: Add the settings for all the parameters.\n",
    "\n",
    "**Answer Question 4 (everyone) and Question 5 (6990)**\n"
   ]
  },
  {
   "cell_type": "code",
   "execution_count": null,
   "id": "91f095be-da59-44e7-9fa4-7d6fec13a344",
   "metadata": {},
   "outputs": [],
   "source": [
    "x = 'Tibia'\n",
    "y = 'Fibula'\n",
    "iterations = 200\n",
    "b_init = 0\n",
    "w_init = 0\n",
    "learning_rate = 0.01\n",
    "\n",
    "fit_w, fit_b, mse, w_states, b_states=fit(x=x, y=y, iterations=iterations, b_init=b_init, w_init=w_init, learning_rate=learning_rate)\n",
    "\n",
    "print(\"Final w: %s\\nFinal b: %s\\nFinal MSE: %s\" % (fit_w, fit_b, mse[-1]))\n"
   ]
  }
 ],
 "metadata": {
  "kernelspec": {
   "display_name": "Python 3 (ipykernel)",
   "language": "python",
   "name": "python3"
  },
  "language_info": {
   "codemirror_mode": {
    "name": "ipython",
    "version": 3
   },
   "file_extension": ".py",
   "mimetype": "text/x-python",
   "name": "python",
   "nbconvert_exporter": "python",
   "pygments_lexer": "ipython3",
   "version": "3.10.14"
  }
 },
 "nbformat": 4,
 "nbformat_minor": 5
}
