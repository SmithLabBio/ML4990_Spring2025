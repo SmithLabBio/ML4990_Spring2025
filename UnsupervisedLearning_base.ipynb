{
 "cells": [
  {
   "cell_type": "code",
   "execution_count": null,
   "metadata": {},
   "outputs": [],
   "source": [
    "import pandas as pd\n",
    "from sklearn.decomposition import PCA\n",
    "import matplotlib.pyplot as plt\n",
    "from sklearn.preprocessing import StandardScaler\n",
    "from sklearn.cluster import KMeans\n",
    "from sklearn.manifold import TSNE\n",
    "import numpy as np"
   ]
  },
  {
   "cell_type": "markdown",
   "metadata": {},
   "source": [
    "## Step 1: Read and process the data\n",
    "\n",
    "* These training data are from the same ant dataset we used for support vector machines.\n",
    "* The response/label/Y variable is species.\n",
    "* The features are morphological measurements from the ants.\n",
    "\n",
    "We take the following steps:\n",
    "1. Read the data using the function read_csv.\n",
    "2. Extract some labels that we will use later for plotting.\n",
    "3. Drop columns from the dataframe that we don't want to use for modeling. "
   ]
  },
  {
   "cell_type": "code",
   "execution_count": null,
   "metadata": {},
   "outputs": [],
   "source": [
    "# load ants dataset\n",
    "dataframe = pd.read_csv('all_measurments2020x09.csv')\n",
    "\n",
    "# get X and Y \n",
    "Y = dataframe['species']\n",
    "Y2 = dataframe['caste']\n",
    "combined_label = Y.astype(str) + '_' + Y2.astype(str)\n",
    "X = dataframe.drop(['species','caste', 'country', 'comment', 'bc_num', 'coll_code'], axis=1)\n",
    "\n",
    "# standardize the data\n",
    "scaler = StandardScaler()\n",
    "X_scaled = scaler.fit_transform(X)\n"
   ]
  },
  {
   "cell_type": "markdown",
   "metadata": {},
   "source": [
    "## Step 2: Fit the PCA and transform the data.\n",
    "\n",
    "Now, we are ready to fit the PCA and project our data onto its axes.\n",
    "\n",
    "Answer the questions about PCA."
   ]
  },
  {
   "cell_type": "code",
   "execution_count": null,
   "metadata": {},
   "outputs": [],
   "source": [
    "# fit the PCA\n",
    "pca = PCA()\n",
    "pca.fit(X_scaled)\n",
    "\n",
    "# project the data.\n",
    "X_pca = pca.transform(X_scaled)\n",
    "\n",
    "# calculate percent variance\n",
    "explained_variance_pc1 = np.round(pca.explained_variance_ratio_[0] * 100,1)\n",
    "explained_variance_pc2 = np.round(pca.explained_variance_ratio_[1] * 100,1)\n",
    "\n",
    "\n",
    "# create a scatter plot colored by combined labels\n",
    "plt.figure(figsize=(8, 6))\n",
    "for label in combined_label.unique():\n",
    "    plt.scatter(X_pca[combined_label == label, 0], X_pca[combined_label == label, 1], label=label, alpha=0.7)\n",
    "\n",
    "# plot variable loadings as arrows\n",
    "for i, feature in enumerate(X.columns):\n",
    "    plt.arrow(0, 0, pca.components_[0, i], pca.components_[1, i], color='r', alpha=0.5)\n",
    "    plt.text(pca.components_[0, i]*1.1, pca.components_[1, i]*1.1, feature, color='g', ha='center', va='center')\n",
    "\n",
    "plt.title('PCA of X with Colored Labels')\n",
    "plt.xlabel(f'Principal Component 1: {explained_variance_pc1}% Variance')\n",
    "plt.ylabel(f'Principal Component 2: {explained_variance_pc2}% Variance')\n",
    "plt.legend()\n",
    "plt.grid(True)\n",
    "plt.show()\n",
    "\n",
    "# Get the percent variance explained\n",
    "percent_variance_explained = pca.explained_variance_ratio_ * 100\n",
    "\n",
    "# Plot the percent variance explained\n",
    "plt.figure(figsize=(8, 6))\n",
    "plt.plot(np.arange(1, len(percent_variance_explained) + 1), percent_variance_explained, \n",
    "         marker='o', linestyle='-')\n",
    "plt.title('Percent Variance Explained by Principal Components')\n",
    "plt.xlabel('Principal Component')\n",
    "plt.ylabel('Percent Variance Explained (%)')\n",
    "plt.grid(True)\n",
    "plt.show()"
   ]
  },
  {
   "cell_type": "markdown",
   "metadata": {},
   "source": [
    "# Step 3: TSNE\n",
    "\n",
    "The code below performs TSNE dimensionality reduction.\n",
    "\n",
    "Answer the questions about t-SNE"
   ]
  },
  {
   "cell_type": "code",
   "execution_count": null,
   "metadata": {},
   "outputs": [],
   "source": [
    "\n",
    "# Perform t-SNE\n",
    "tsne = TSNE(n_components=2, random_state=42, perplexity=30)\n",
    "X_tsne = tsne.fit_transform(X)\n",
    "\n",
    "# Plot t-SNE results\n",
    "plt.figure(figsize=(8, 6))\n",
    "for label in combined_label.unique():\n",
    "    plt.scatter(X_tsne[combined_label == label, 0], \n",
    "                X_tsne[combined_label == label, 1], \n",
    "                label=label, alpha=0.7)\n",
    "\n",
    "plt.title('t-SNE of X with Colored Labels')\n",
    "plt.xlabel('t-SNE Dimension 1')\n",
    "plt.ylabel('t-SNE Dimension 2')\n",
    "plt.legend()\n",
    "plt.grid(True)\n",
    "plt.show()"
   ]
  },
  {
   "cell_type": "markdown",
   "metadata": {},
   "source": [
    "## Step 4: Kmeans clustering on the raw data.\n",
    "\n",
    "Now, we will perform k-means clustering on the raw data.\n",
    "\n",
    "Then, we plot the inertia (look up what this is: https://scikit-learn.org/stable/modules/generated/sklearn.cluster.KMeans.html).\n",
    "\n",
    "We can use this to select the appopriate value of k."
   ]
  },
  {
   "cell_type": "code",
   "execution_count": null,
   "metadata": {},
   "outputs": [],
   "source": [
    "# Define the range of cluster numbers to explore\n",
    "cluster_range = range(1, 11)  # You can adjust the range as needed\n",
    "\n",
    "# Initialize a list to store the inertia (within-cluster sum of squares)\n",
    "inertia_list = []\n",
    "\n",
    "# Perform K-means clustering for each k in the cluster range\n",
    "for k in cluster_range:\n",
    "    kmeans = KMeans(n_clusters=k)\n",
    "    kmeans.fit(X)\n",
    "    inertia_list.append(kmeans.inertia_)\n",
    "\n",
    "# Plot the elbow plot\n",
    "plt.figure(figsize=(8, 6))\n",
    "plt.plot(cluster_range, inertia_list, marker='o')\n",
    "plt.title('Elbow Plot for K-means Clustering')\n",
    "plt.xlabel('Number of Clusters (k)')\n",
    "plt.ylabel('Inertia (Within-cluster Sum of Squares)')\n",
    "plt.grid(True)\n",
    "plt.show()"
   ]
  },
  {
   "cell_type": "markdown",
   "metadata": {},
   "source": [
    "##  Step 5: Select the appropriate K and plot it.\n",
    "\n",
    "Based on the elbow plot above, choose a value of K and plot it using the below code. We plot agains the Principal Component axes to facilitate visualization.\n",
    "\n",
    "Answer the questions about k-means."
   ]
  },
  {
   "cell_type": "code",
   "execution_count": null,
   "metadata": {},
   "outputs": [],
   "source": [
    "selected_k = 4\n",
    "kmeans_raw = KMeans(n_clusters=selected_k)\n",
    "clusters_raw = kmeans_raw.fit_predict(X)\n",
    "\n",
    "plt.figure(figsize=(12, 6))\n",
    "plt.subplot(1, 2, 1)\n",
    "plt.scatter(X_pca[:, 0], X_pca[:, 1], c=clusters_raw, cmap='viridis')\n",
    "plt.title('K-means Clustering on Raw Data')\n",
    "plt.xlabel('Principal Component 1')\n",
    "plt.ylabel('Principal Component 2')"
   ]
  },
  {
   "cell_type": "markdown",
   "metadata": {},
   "source": [
    "## 6990 Only: Step 6\n",
    "\n",
    "Perform k-means clustering using some PC axes instead of the raw data. Decide how many PC axes to keep based on the eigenvalues (plotted above.)"
   ]
  },
  {
   "cell_type": "code",
   "execution_count": null,
   "metadata": {},
   "outputs": [],
   "source": [
    "selected_k = 4\n",
    "kmeans_raw = KMeans(n_clusters=selected_k)\n",
    "clusters_raw = kmeans_raw.fit_predict(X_pca)\n",
    "\n",
    "plt.figure(figsize=(12, 6))\n",
    "plt.subplot(1, 2, 1)\n",
    "plt.scatter(X_pca[:, 0], X_pca[:, 1], c=clusters_raw, cmap='viridis')\n",
    "plt.title('K-means Clustering on Raw Data')\n",
    "plt.xlabel('Principal Component 1')\n",
    "plt.ylabel('Principal Component 2')"
   ]
  },
  {
   "cell_type": "code",
   "execution_count": null,
   "metadata": {},
   "outputs": [],
   "source": []
  }
 ],
 "metadata": {
  "kernelspec": {
   "display_name": "Python 3 (ipykernel)",
   "language": "python",
   "name": "python3"
  },
  "language_info": {
   "codemirror_mode": {
    "name": "ipython",
    "version": 3
   },
   "file_extension": ".py",
   "mimetype": "text/x-python",
   "name": "python",
   "nbconvert_exporter": "python",
   "pygments_lexer": "ipython3",
   "version": "3.10.14"
  }
 },
 "nbformat": 4,
 "nbformat_minor": 4
}
